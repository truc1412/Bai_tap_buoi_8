{
 "cells": [
  {
   "cell_type": "code",
   "execution_count": 5,
   "id": "c4500382",
   "metadata": {},
   "outputs": [
    {
     "name": "stdout",
     "output_type": "stream",
     "text": [
      "Tôi\n",
      "Titíh\n",
      "T í   c\n",
      "Titíhđ ulc\n",
      "hcịl ud iđ hcíht iôT\n"
     ]
    }
   ],
   "source": [
    "# cắt string theo index\n",
    "# cú pháp : <tên biến > [start:end:step]\n",
    "text = \"Tôi thích đi du lịch\"\n",
    "print(text[0:3])\n",
    "print(text[0:10:2])\n",
    "print(text[0:len(text):3])\n",
    "print(text[: : 2]) #start default là 0 , end default là len(text) ,step có thể đi từ giá trị âm\n",
    "print(text[: : -1])"
   ]
  },
  {
   "cell_type": "code",
   "execution_count": 5,
   "id": "493419fb",
   "metadata": {},
   "outputs": [
    {
     "name": "stdout",
     "output_type": "stream",
     "text": [
      "python Cac ban\n",
      "python Cac ban python Cac ban python Cac ban python Cac ban \n"
     ]
    }
   ],
   "source": [
    "# ghep chuỗi và lặp chuỗi \n",
    "text1=\"python\"\n",
    "text2=\"Cac ban\"\n",
    "text=text1 +\" \"+text2+\" \"\n",
    "print(text1 +\" \"+text2)\n",
    "print(text*4)"
   ]
  },
  {
   "cell_type": "code",
   "execution_count": 6,
   "id": "ce8e459a",
   "metadata": {},
   "outputs": [
    {
     "name": "stdout",
     "output_type": "stream",
     "text": [
      "3\n"
     ]
    }
   ],
   "source": [
    "# count\n",
    "content = \"Lớp học python căn bản buổi 8\"\n",
    "print(content.count(\"n\"))\n"
   ]
  },
  {
   "cell_type": "markdown",
   "id": "b6a2b340",
   "metadata": {},
   "source": [
    "#### thực hành xử lý và in ra các thông tin tương ứng trong chuỗi "
   ]
  },
  {
   "cell_type": "code",
   "execution_count": 21,
   "id": "b1467f87",
   "metadata": {},
   "outputs": [
    {
     "name": "stdout",
     "output_type": "stream",
     "text": [
      "Lớp học Lớp học \n",
      "python python \n",
      "căn bản căn bản \n",
      "buổi 8\n"
     ]
    }
   ],
   "source": [
    "content = \"Lớp học python căn bản buổi 8\"\n",
    "# in ra 2 chữ :lớp học\n",
    "text1=content[0:8]\n",
    "print(text1*2)\n",
    "# in ra 2 chữ: python\n",
    "text2=content[8:15]\n",
    "print(text2*2)\n",
    "# in ra 2 chữ: căn bản\n",
    "text3=content[15:23]\n",
    "print(text3*2)\n",
    "# in ra chữ : buổi 8\n",
    "print(content[23:29])"
   ]
  },
  {
   "cell_type": "markdown",
   "id": "ac31fbb3",
   "metadata": {},
   "source": [
    "# Bài Tập thực hành"
   ]
  },
  {
   "cell_type": "markdown",
   "id": "4ec0a0d3",
   "metadata": {},
   "source": [
    "## Bài Tập 1"
   ]
  },
  {
   "cell_type": "markdown",
   "id": "ca31248e",
   "metadata": {},
   "source": [
    "Giả sử một chiếc ô tô có vận tốc ban đầu v0, gia tốc a và thời gian t.</p>\n",
    "Viết chương trình python để tìm vận tốc cuối cùng của ô tô và in kết quả ra màn hình.</p>\n",
    "Sử dụng lệnh ép kiểu input() để nhập các giá trị tương ứng cho v0, a và t.</p>\n",
    "Dùng công thức v = v0 + a.t để tính vận tốc cuối cùng"
   ]
  },
  {
   "cell_type": "code",
   "execution_count": 44,
   "id": "aa8f4dde",
   "metadata": {},
   "outputs": [
    {
     "name": "stdout",
     "output_type": "stream",
     "text": [
      "Nhập vận tốc ban đầu: 19\n",
      "Nhập gia tốc: 4\n",
      "Nhập thời gian: 8\n",
      "Vận tốc :51\n"
     ]
    }
   ],
   "source": [
    "vo=int(input(\"Nhập vận tốc ban đầu: \"))\n",
    "a=int(input(\"Nhập gia tốc: \"))\n",
    "t=int(input(\"Nhập thời gian: \"))\n",
    "v=vo+(a*t)\n",
    "print(\"Vận tốc :\"+str(v))"
   ]
  },
  {
   "cell_type": "markdown",
   "id": "8b02bcd4",
   "metadata": {},
   "source": [
    "## Bài tập 2"
   ]
  },
  {
   "cell_type": "markdown",
   "id": "ab6b37b6",
   "metadata": {},
   "source": [
    "Viết chương trình để nhập điểm kiểm tra, điểm thi giữa kỳ, điểm thi cuối kỳ, sau đó tính tổng điểm và in kết quả ra màn hình"
   ]
  },
  {
   "cell_type": "code",
   "execution_count": 43,
   "id": "095535a9",
   "metadata": {},
   "outputs": [
    {
     "name": "stdout",
     "output_type": "stream",
     "text": [
      "Nhập điểm kiểm tra: 4\n",
      "Nhập điểm thi giữa kỳ: 10\n",
      "Nhập điểm thi cuối kỳ: 6\n",
      "tổng điểm: 20\n"
     ]
    }
   ],
   "source": [
    "kt=int(input(\"Nhập điểm kiểm tra: \"))\n",
    "gk=int(input(\"Nhập điểm thi giữa kỳ: \"))\n",
    "kk=int(input(\"Nhập điểm thi cuối kỳ: \"))\n",
    "tong_diem=kt+gk+kk\n",
    "print(\"tổng điểm: \"+str(tong_diem))"
   ]
  },
  {
   "cell_type": "markdown",
   "id": "076b8074",
   "metadata": {},
   "source": [
    "## Bài Tập 3"
   ]
  },
  {
   "cell_type": "markdown",
   "id": "c0009d80",
   "metadata": {},
   "source": [
    "Viết chương chình nhập vào vận tốc và thời gian của xe chạy của xe taxi </p>\n",
    "yêu cầu 1 :tính quãng đường xe chạy được bao nhiêu km.</p>\n",
    "yêu cầu 2 : đổi km về m </p>\n",
    "yêu cầu 3 : cho biết cứ mỗi 1 km thì được tính với giá cước là 23000 đồng ,hãy tính tổng số tiền khách phải trả."
   ]
  },
  {
   "cell_type": "code",
   "execution_count": 40,
   "id": "0f6469ce",
   "metadata": {},
   "outputs": [
    {
     "name": "stdout",
     "output_type": "stream",
     "text": [
      "Nhập vận tốc: 10\n",
      "Nhập thoi gian: 1\n",
      "Quãng đường: 10\n",
      "Km sang m: 10000\n",
      "Số tiền phải trả là: 230000\n"
     ]
    }
   ],
   "source": [
    "vt=int(input(\"Nhập vận tốc: \"))\n",
    "tg=int(input(\"Nhập thoi gian: \"))\n",
    "qd=vt*tg\n",
    "print(\"Quãng đường: \"+str(qd))\n",
    "km_m=qd*1000\n",
    "print(\"Km sang m: \"+str(km_m))\n",
    "tong_tien=qd*23000\n",
    "print(\"Số tiền phải trả là: \"+str(tong_tien))\n"
   ]
  },
  {
   "cell_type": "markdown",
   "id": "14e3f09c",
   "metadata": {},
   "source": [
    "## Bài Tập 4"
   ]
  },
  {
   "cell_type": "markdown",
   "id": "07a5d8a0",
   "metadata": {},
   "source": [
    "Nhập vào một string và một số x ,hãy xóa x ký tự đầu tiên của string </p>\n",
    "ví dụ : string = \"hello python\" ,x = 3 </p>\n",
    "    output: \"lo python\""
   ]
  },
  {
   "cell_type": "code",
   "execution_count": 42,
   "id": "b1465df0",
   "metadata": {},
   "outputs": [
    {
     "name": "stdout",
     "output_type": "stream",
     "text": [
      "Nhập chuỗi: hello python\n",
      "Nhập số x: 3\n",
      "lo python\n"
     ]
    }
   ],
   "source": [
    "text=input(\"Nhập chuỗi: \")\n",
    "x=int(input(\"Nhập số x: \"))\n",
    "print(text[x:len(text)])"
   ]
  },
  {
   "cell_type": "markdown",
   "id": "1cd79c05",
   "metadata": {},
   "source": [
    "## Bài Tập 5"
   ]
  },
  {
   "cell_type": "markdown",
   "id": "d0956054",
   "metadata": {},
   "source": [
    "Nhập vào một string ,hãy kiểm tra đây có phải là một string đối xứng không</p>\n",
    "Lưu ý : chuối đối xứng là chuối có thứ tự giống nhau khi đọc từ trái sáng phải hoặc ngược lại</p>\n",
    "vd : abba , abcddcba"
   ]
  },
  {
   "cell_type": "code",
   "execution_count": 1,
   "id": "43d5c2eb",
   "metadata": {},
   "outputs": [
    {
     "name": "stdout",
     "output_type": "stream",
     "text": [
      "Nhập một String: abba\n",
      "True\n"
     ]
    }
   ],
   "source": [
    "text=input(\"Nhập một String: \")\n",
    "text1=text[::-1]\n",
    "print(text==text1)\n"
   ]
  },
  {
   "cell_type": "markdown",
   "id": "2d88272f",
   "metadata": {},
   "source": [
    "## Bài Tập 6 "
   ]
  },
  {
   "cell_type": "markdown",
   "id": "ba2c57ba",
   "metadata": {},
   "source": [
    "Nhập vào một chuỗi string gồm 5 chữ và thực hiện các thao tác :</p>\n",
    "    in ra đổi 2 chữ đầu tiên</p>\n",
    "    in ra chuỗi đó đều in thường</p>\n",
    "    in ra chuỗi đó đều in hoa</p>\n",
    "    in cắt chuỗi đó thành nhiều chuỗi nhỏ</p>\n",
    "    in cắt đó thành những từ có nghĩa</p>\n",
    "    "
   ]
  },
  {
   "cell_type": "code",
   "execution_count": 1,
   "id": "a86cc73b",
   "metadata": {},
   "outputs": [
    {
     "name": "stdout",
     "output_type": "stream",
     "text": [
      "Nhập chuỗi: Hôm nay\n",
      "Ngày mai\n",
      "hôm nay\n",
      "HÔM NAY\n",
      "['Hôm', 'nay']\n",
      "nay\n"
     ]
    }
   ],
   "source": [
    "content =input(\"Nhập chuỗi: \")\n",
    "print(content.replace(\"Hôm nay\",\"Ngày mai\"))\n",
    "print(content.lower())\n",
    "print(content.upper())\n",
    "print(content.split())\n",
    "print(content[4:7])\n"
   ]
  },
  {
   "cell_type": "markdown",
   "id": "a562eb4b",
   "metadata": {},
   "source": [
    "## Bài Tập 7"
   ]
  },
  {
   "cell_type": "markdown",
   "id": "fe077b04",
   "metadata": {},
   "source": [
    "Nhập vào 2 chuỗi , chuỗi 1 là Họ và tên đệm, chuỗi 2 là tên của mình </p>\n",
    "Yêu cầu : nối 2 chuỗi lại hoàn chỉnh </p>\n",
    "    vd : Họ tên đêm : Nguyễn Văn </p>\n",
    "        Tên : A</p>\n",
    "     output: Nguyễn Văn A"
   ]
  },
  {
   "cell_type": "code",
   "execution_count": 26,
   "id": "c7787a7c",
   "metadata": {},
   "outputs": [
    {
     "name": "stdout",
     "output_type": "stream",
     "text": [
      "Nhập Họ tên đệm: Nguyễn Minh\n",
      "Nhập tên : Trực\n",
      "Nguyễn Minh Trực\n"
     ]
    }
   ],
   "source": [
    "ho_dem=input(\"Nhập Họ tên đệm: \")\n",
    "ten=input(\"Nhập tên : \")\n",
    "print(ho_dem+\" \"+ten)"
   ]
  },
  {
   "cell_type": "code",
   "execution_count": null,
   "id": "e1c27194",
   "metadata": {},
   "outputs": [],
   "source": []
  }
 ],
 "metadata": {
  "kernelspec": {
   "display_name": "Python 3 (ipykernel)",
   "language": "python",
   "name": "python3"
  },
  "language_info": {
   "codemirror_mode": {
    "name": "ipython",
    "version": 3
   },
   "file_extension": ".py",
   "mimetype": "text/x-python",
   "name": "python",
   "nbconvert_exporter": "python",
   "pygments_lexer": "ipython3",
   "version": "3.9.13"
  }
 },
 "nbformat": 4,
 "nbformat_minor": 5
}
